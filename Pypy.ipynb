{
  "nbformat": 4,
  "nbformat_minor": 0,
  "metadata": {
    "colab": {
      "private_outputs": true,
      "provenance": [],
      "authorship_tag": "ABX9TyOABBoUj2EuMPPPGDC9bTlr",
      "include_colab_link": true
    },
    "kernelspec": {
      "name": "python3",
      "display_name": "Python 3"
    },
    "language_info": {
      "name": "python"
    }
  },
  "cells": [
    {
      "cell_type": "markdown",
      "metadata": {
        "id": "view-in-github",
        "colab_type": "text"
      },
      "source": [
        "<a href=\"https://colab.research.google.com/github/cagBRT/PerformanceEnhancement/blob/main/Pypy.ipynb\" target=\"_parent\"><img src=\"https://colab.research.google.com/assets/colab-badge.svg\" alt=\"Open In Colab\"/></a>"
      ]
    },
    {
      "cell_type": "markdown",
      "source": [
        "Download pypy https://www.pypy.org/download.html\n",
        "\n",
        "git clone https://github.com/Homebrew/brew homebrew\n",
        "\n",
        "brew install pypy3\n",
        "\n",
        "bash for bash shell\n",
        "\n",
        "ls -a for all hidden and visible files and directories\n",
        "\n",
        "open .zprofile\n",
        "PATH=$PATH:$Downloads/pypy3.10-v7.3.13-macos_x86_64/bin\n",
        "\n",
        "./pypy3\n",
        "\n",
        "go to :\n",
        "Open System Settings.\n",
        "Click Privacy & Security, scroll down, and click the Open Anyway button to confirm your intent to open or install the app."
      ],
      "metadata": {
        "id": "NdqYlV4-difP"
      }
    },
    {
      "cell_type": "code",
      "source": [
        "import time\n",
        "start_time = time.time()\n",
        "\n",
        "total = 0\n",
        "for i in range(1, 10000):\n",
        "    for j in range(1, 10000):\n",
        "        total += i + j\n",
        "\n",
        "print(f\"The result is {total}\")\n",
        "\n",
        "end_time = time.time()\n",
        "print(f\"It took {end_time-start_time:.2f} seconds to compute\")\n"
      ],
      "metadata": {
        "id": "aDh5RTgo4ylP"
      },
      "execution_count": null,
      "outputs": []
    },
    {
      "cell_type": "code",
      "source": [
        "!%%pypy\n",
        "start_time = time.time()\n",
        "\n",
        "total = 0\n",
        "for i in range(1, 10000):\n",
        "    for j in range(1, 10000):\n",
        "        total += i + j\n",
        "\n",
        "print(f\"The result is {total}\")\n",
        "\n",
        "end_time = time.time()\n",
        "print(f\"It took {end_time-start_time:.2f} seconds to compute\")"
      ],
      "metadata": {
        "id": "rYazAFKv7OnN"
      },
      "execution_count": null,
      "outputs": []
    }
  ]
}