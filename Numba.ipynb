{
  "nbformat": 4,
  "nbformat_minor": 0,
  "metadata": {
    "colab": {
      "private_outputs": true,
      "provenance": [],
      "toc_visible": true,
      "authorship_tag": "ABX9TyNGlkWFKv0p9tTVI+1A7c9D",
      "include_colab_link": true
    },
    "kernelspec": {
      "name": "python3",
      "display_name": "Python 3"
    },
    "language_info": {
      "name": "python"
    }
  },
  "cells": [
    {
      "cell_type": "markdown",
      "metadata": {
        "id": "view-in-github",
        "colab_type": "text"
      },
      "source": [
        "<a href=\"https://colab.research.google.com/github/cagBRT/PerformanceEnhancement/blob/main/Numba.ipynb\" target=\"_parent\"><img src=\"https://colab.research.google.com/assets/colab-badge.svg\" alt=\"Open In Colab\"/></a>"
      ]
    },
    {
      "cell_type": "code",
      "source": [
        "# Clone the entire repo.\n",
        "!git clone -l -s https://github.com/cagBRT/Intro-to-Pandas.git cloned-repo\n",
        "%cd cloned-repo"
      ],
      "metadata": {
        "id": "8oMTZbJTwcau"
      },
      "execution_count": null,
      "outputs": []
    },
    {
      "cell_type": "code",
      "source": [
        "import pandas as pd\n"
      ],
      "metadata": {
        "id": "lJs-eiAXwuAn"
      },
      "execution_count": null,
      "outputs": []
    },
    {
      "cell_type": "code",
      "source": [
        "adult_income = pd.read_csv(\"adult.csv\")"
      ],
      "metadata": {
        "id": "DseaBydnwgVf"
      },
      "execution_count": null,
      "outputs": []
    },
    {
      "cell_type": "markdown",
      "source": [
        "# Numba\n",
        "\n",
        "Numba is an open source JIT compiler that translates a subset of Python and NumPy code into fast machine code."
      ],
      "metadata": {
        "id": "fiqpxU6feoCf"
      }
    },
    {
      "cell_type": "markdown",
      "source": [
        "Let’s improve the runtime even more.\n",
        "\n",
        "The first candidate is Numba.\n",
        "\n",
        "We install it via pip (pip install numba) and import it. Then, we will decorate our crazy_function with its jit function. JIT stands for just in time, and it translates pure Python and NumPy code to native machine instructions, giving massive speed-ups."
      ],
      "metadata": {
        "id": "TT7MZqnXGb_c"
      }
    },
    {
      "cell_type": "markdown",
      "source": [
        "Numba translates Python functions to optimized machine code at runtime using the industry-standard LLVM compiler library. Numba-compiled numerical algorithms in Python can approach the speeds of C or FORTRAN.\n",
        "\n"
      ],
      "metadata": {
        "id": "JDUtdyY1fDzz"
      }
    },
    {
      "cell_type": "code",
      "source": [
        "!pip install numba"
      ],
      "metadata": {
        "id": "gS37-d5-GgvH"
      },
      "execution_count": null,
      "outputs": []
    },
    {
      "cell_type": "markdown",
      "source": [
        "# Will Numba work for my code?\n",
        "This depends on what your code looks like, if your code is numerically orientated (does a lot of math), uses NumPy a lot and/or has a lot of loops, then Numba is often a good choice.\n",
        "\n",
        "In these examples we’ll apply the most fundamental of Numba’s JIT decorators, @jit, to try and speed up some functions to demonstrate what works well and what does not.\n",
        "\n"
      ],
      "metadata": {
        "id": "sEAFwvnNxIeB"
      }
    },
    {
      "cell_type": "code",
      "source": [
        "import numpy as np\n",
        "import numba\n",
        "from numba import njit\n",
        "import random"
      ],
      "metadata": {
        "id": "N7oZeOXZvx19"
      },
      "execution_count": null,
      "outputs": []
    },
    {
      "cell_type": "code",
      "source": [
        "from numba import jit\n",
        "import numpy as np\n",
        "\n",
        "x = np.arange(100).reshape(10, 10)\n",
        "\n",
        "@jit(nopython=True) # Set \"nopython\" mode for best performance, equivalent to @njit\n",
        "def go_fast(a): # Function is compiled to machine code when called the first time\n",
        "    trace = 0.0\n",
        "    for i in range(a.shape[0]):   # Numba likes loops\n",
        "        trace += np.tanh(a[i, i]) # Numba likes NumPy functions\n",
        "    return a + trace              # Numba likes NumPy broadcasting\n",
        "\n",
        "print(go_fast(x))"
      ],
      "metadata": {
        "id": "KMng0TDGxTO2"
      },
      "execution_count": null,
      "outputs": []
    },
    {
      "cell_type": "markdown",
      "source": [
        "It won’t work very well, if at all, on code that looks like this:"
      ],
      "metadata": {
        "id": "LVP7qZEsxY9Q"
      }
    },
    {
      "cell_type": "code",
      "source": [
        "from numba import jit\n",
        "import pandas as pd\n",
        "\n",
        "x = {'a': [1, 2, 3], 'b': [20, 30, 40]}\n",
        "\n",
        "@jit(nopython=True)\n",
        "def use_pandas(a): # Function will not benefit from Numba jit\n",
        "    df = pd.DataFrame.from_dict(a) # Numba doesn't know about pd.DataFrame\n",
        "    df += 1                        # Numba doesn't understand what this is\n",
        "    return df.cov()                # or this!\n",
        "\n",
        "print(use_pandas(x))"
      ],
      "metadata": {
        "id": "J1wiXlsbxXVY"
      },
      "execution_count": null,
      "outputs": []
    },
    {
      "cell_type": "markdown",
      "source": [
        "Numba uses Python decorators to transform Python functions into functions that compile themselves. The most common Numba decorator is @jit, which creates a normal function for execution on the CPU.\n",
        "\n",
        "Numba works best on numerical functions that make use of NumPy arrays. Here's an example:"
      ],
      "metadata": {
        "id": "pfn_NzKAflUD"
      }
    },
    {
      "cell_type": "markdown",
      "source": [
        "The nopython=True option requires that the function be fully compiled (so that the Python interpreter calls are completely removed), otherwise an exception is raised. These exceptions usually indicate places in the function that need to be modified in order to achieve better-than-Python performance. We strongly recommend always using nopython=True"
      ],
      "metadata": {
        "id": "_bSV485Ifxb7"
      }
    },
    {
      "cell_type": "code",
      "source": [
        "@njit(nopython=True)\n",
        "def go_fast(a): # Function is compiled to machine code when called the first time\n",
        "    trace = 0.0\n",
        "    # assuming square input matrix\n",
        "    for i in range(a.shape[0]):   # Numba likes loops\n",
        "        trace += np.tanh(a[i, i]) # Numba likes NumPy functions\n",
        "    return a + trace              # Numba likes NumPy broadcasting"
      ],
      "metadata": {
        "id": "2JB0DS_Qv3DF"
      },
      "execution_count": null,
      "outputs": []
    },
    {
      "cell_type": "markdown",
      "source": [
        "The function has not yet been compiled.  To do that, we need to call the function:"
      ],
      "metadata": {
        "id": "kDUOWt9_f0kd"
      }
    },
    {
      "cell_type": "code",
      "source": [
        "x = np.arange(10000).reshape(100, 100)\n",
        "%time go_fast(x)"
      ],
      "metadata": {
        "id": "NGEOg3E2v7rd"
      },
      "execution_count": null,
      "outputs": []
    },
    {
      "cell_type": "code",
      "source": [
        "%time go_fast(2*x)"
      ],
      "metadata": {
        "id": "sJjklePiv9sH"
      },
      "execution_count": null,
      "outputs": []
    },
    {
      "cell_type": "markdown",
      "source": [
        "To benchmark Numba-compiled functions, it is important to time them without including the compilation step, since the compilation of a given function will only happen once for each set of input types, but the function will be called many times.\n",
        "\n",
        "In a notebook, the %timeit magic function is the best to use because it runs the function many times in a loop to get a more accurate estimate of the execution time of short functions."
      ],
      "metadata": {
        "id": "wi4H1D_1gPaG"
      }
    },
    {
      "cell_type": "markdown",
      "source": [
        "Let's compare to the uncompiled function.  Numba-compiled function have a special `.py_func` attribute which is the original uncompiled Python function.  We should first verify we get the same results:"
      ],
      "metadata": {
        "id": "Oj-chTkfgo25"
      }
    },
    {
      "cell_type": "code",
      "source": [
        "%time go_fast(x)\n",
        "%time np.testing.assert_array_equal(go_fast(x), go_fast(x))"
      ],
      "metadata": {
        "id": "4z471y5wwCfK"
      },
      "execution_count": null,
      "outputs": []
    },
    {
      "cell_type": "code",
      "source": [
        "def go_numpy(a):\n",
        "    return a + np.tanh(np.diagonal(a)).sum()\n",
        "\n",
        "%time np.testing.assert_array_equal(go_numpy(x), go_fast(x))"
      ],
      "metadata": {
        "id": "_SEkN5x3wENG"
      },
      "execution_count": null,
      "outputs": []
    },
    {
      "cell_type": "markdown",
      "source": [
        "The NumPy version is more than 2x faster than Python, but still 10x slower than Numba."
      ],
      "metadata": {
        "id": "xKB7ipqUiC5h"
      }
    },
    {
      "cell_type": "code",
      "source": [
        "%timeit go_numpy(x)"
      ],
      "metadata": {
        "id": "7Zhjji1WwHVV"
      },
      "execution_count": null,
      "outputs": []
    },
    {
      "cell_type": "code",
      "source": [
        "@njit\n",
        "def crazy_function(col1, col2, col3):\n",
        "    return (col1 ** 3 + col2 ** 2 + col3 * 10) ** 0.5"
      ],
      "metadata": {
        "id": "2fFSofLvwJJD"
      },
      "execution_count": null,
      "outputs": []
    },
    {
      "cell_type": "markdown",
      "source": [
        "We achieved about 1.5 times speed-up.\n",
        "\n",
        "**Note that Numba works best with functions that involve many native Python loops, a lot of math, and, even better, NumPy functions and arrays.**"
      ],
      "metadata": {
        "id": "5JivpTEyG44G"
      }
    },
    {
      "cell_type": "markdown",
      "source": [
        "Supported Python Features\n",
        "Numba works best when used with NumPy arrays, but Numba also supports other data types out of the box:\n",
        "\n",
        "int, float\n",
        "tuple, namedtuple\n",
        "list (with some restrictions)\n",
        "... and others. See the Reference Manual for more details.\n",
        "In particular, tuples are useful for returning multiple values from functions:"
      ],
      "metadata": {
        "id": "_G43_ZTeiRAp"
      }
    },
    {
      "cell_type": "code",
      "source": [
        "import random\n",
        "\n",
        "@njit(nopython=True)\n",
        "def spherical_to_cartesian(r, theta, phi):\n",
        "    '''Convert spherical coordinates (physics convention) to cartesian coordinates'''\n",
        "    sin_theta = np.sin(theta)\n",
        "    x = r * sin_theta * np.cos(phi)\n",
        "    y = r * sin_theta * np.sin(phi)\n",
        "    z = r * np.cos(theta)\n",
        "\n",
        "    return x, y, z # return a tuple\n",
        "\n",
        "@njit(nopython=True)\n",
        "def random_directions(n, r):\n",
        "    '''Return ``n`` 3-vectors in random directions with radius ``r``'''\n",
        "    out = np.empty(shape=(n,3), dtype=np.float64)\n",
        "\n",
        "    for i in range(n):\n",
        "        # Pick directions randomly in solid angle\n",
        "        phi = random.uniform(0, 2*np.pi)\n",
        "        theta = np.arccos(random.uniform(-1, 1))\n",
        "        # unpack a tuple\n",
        "        x, y, z = spherical_to_cartesian(r, theta, phi)\n",
        "        out[i] = x, y, z\n",
        "\n",
        "    return out"
      ],
      "metadata": {
        "id": "4Vhs1QLRwTIY"
      },
      "execution_count": null,
      "outputs": []
    },
    {
      "cell_type": "code",
      "source": [
        "%time random_directions(10, 1.0)"
      ],
      "metadata": {
        "id": "aAjtQhQrwU-W"
      },
      "execution_count": null,
      "outputs": []
    },
    {
      "cell_type": "markdown",
      "source": [],
      "metadata": {
        "id": "VOoTf1ozw7Bt"
      }
    },
    {
      "cell_type": "code",
      "source": [],
      "metadata": {
        "id": "EgSyD3bpw7Nw"
      },
      "execution_count": null,
      "outputs": []
    }
  ]
}