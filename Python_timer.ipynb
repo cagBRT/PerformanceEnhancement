{
  "nbformat": 4,
  "nbformat_minor": 0,
  "metadata": {
    "colab": {
      "private_outputs": true,
      "provenance": [],
      "authorship_tag": "ABX9TyPqWFt9KbdEco+f+pf+sNcP",
      "include_colab_link": true
    },
    "kernelspec": {
      "name": "python3",
      "display_name": "Python 3"
    },
    "language_info": {
      "name": "python"
    }
  },
  "cells": [
    {
      "cell_type": "markdown",
      "metadata": {
        "id": "view-in-github",
        "colab_type": "text"
      },
      "source": [
        "<a href=\"https://colab.research.google.com/github/cagBRT/PerformanceEnhancement/blob/main/Python_timer.ipynb\" target=\"_parent\"><img src=\"https://colab.research.google.com/assets/colab-badge.svg\" alt=\"Open In Colab\"/></a>"
      ]
    },
    {
      "cell_type": "markdown",
      "source": [
        "Python provides a measurement tool to measure the performance.\n",
        "\n",
        "In the example below, it may be tempting to use the tuple packing and unpacking feature instead of the traditional approach to swapping arguments.\n",
        "\n",
        "The timeit module quickly demonstrates a modest performance advantage:"
      ],
      "metadata": {
        "id": "4Ye2Gy-YUyPj"
      }
    },
    {
      "cell_type": "code",
      "execution_count": null,
      "metadata": {
        "id": "w9Lvv_hcUd8s"
      },
      "outputs": [],
      "source": [
        "from timeit import Timer\n",
        "Timer('t=a; a=b; b=t', 'a=1; b=2').timeit()"
      ]
    },
    {
      "cell_type": "code",
      "source": [
        "Timer('a,b = b,a', 'a=1; b=2').timeit()"
      ],
      "metadata": {
        "id": "AErnznLrUwWL"
      },
      "execution_count": null,
      "outputs": []
    },
    {
      "cell_type": "code",
      "source": [
        "import cProfile, pstats, io\n",
        "from pstats import SortKey\n",
        "pr = cProfile.Profile()\n",
        "pr.enable()\n",
        "# ... do something ...\n",
        "pr.disable()\n",
        "s = io.StringIO()\n",
        "sortby = SortKey.CUMULATIVE\n",
        "ps = pstats.Stats(pr, stream=s).sort_stats(sortby)\n",
        "ps.print_stats()\n",
        "print(s.getvalue())"
      ],
      "metadata": {
        "id": "yMtzJCkNVUzt"
      },
      "execution_count": null,
      "outputs": []
    }
  ]
}