{
  "nbformat": 4,
  "nbformat_minor": 0,
  "metadata": {
    "colab": {
      "provenance": [],
      "gpuType": "T4",
      "authorship_tag": "ABX9TyPnPLIbIr0i10C4Vm09bbAc",
      "include_colab_link": true
    },
    "kernelspec": {
      "name": "python3",
      "display_name": "Python 3"
    },
    "language_info": {
      "name": "python"
    },
    "accelerator": "GPU"
  },
  "cells": [
    {
      "cell_type": "markdown",
      "metadata": {
        "id": "view-in-github",
        "colab_type": "text"
      },
      "source": [
        "<a href=\"https://colab.research.google.com/github/cagBRT/PerformanceEnhancement/blob/main/1_a_Alternative_to_for_Loops.ipynb\" target=\"_parent\"><img src=\"https://colab.research.google.com/assets/colab-badge.svg\" alt=\"Open In Colab\"/></a>"
      ]
    },
    {
      "cell_type": "markdown",
      "source": [
        "### Vectorization is the technique of implementing (NumPy) array operations on a dataset.\n",
        "\n",
        "In the background, it applies the operations to all the elements of an array or series in one go (unlike a ‘for’ loop that manipulates one row at a time).<br>\n",
        "\n",
        "\n",
        "**Vectorization in Python is super fast and should be preferred over loops, whenever we are working with very large datasets.**\n",
        "\n",
        "\n",
        "\n"
      ],
      "metadata": {
        "id": "VTsypMZhhFOw"
      }
    },
    {
      "cell_type": "markdown",
      "source": [
        "### Benefits of Vectorization<br>\n",
        "\n",
        "\n",
        "1. **Efficiency:** Vectorized operations are optimized for performance and are much faster than traditional loop-based operations, especially on large datasets.\n",
        "2. **Clarity:** Vectorized code is often more concise and easier to read compared to code with explicit loops.\n",
        "3. **Ease of Use:** You can apply operations to entire columns or Series with a single line of code, reducing the complexity of your scripts.\n",
        "4. **Compatibility**: Pandas integrates seamlessly with other data science libraries like NumPy and scikit-learn, allowing you to work with vectorized data efficiently in your data analysis and machine learning projects."
      ],
      "metadata": {
        "id": "z4ZYvh-EwRTy"
      }
    },
    {
      "cell_type": "markdown",
      "source": [
        "### How Vectorization Speeds Up Your Code\n",
        "\n",
        "\n",
        "1. **Reduced Loop Overheads:** In traditional loops, there’s overhead associated with managing the loop index and checking loop conditions. With vectorization, you eliminate these overheads because the operations are applied to entire arrays.\n",
        "2. **Optimized Low-Level Instructions:** Libraries like NumPy use optimized low-level instructions (e.g., SIMD instructions on modern CPUs) to perform operations on arrays, taking full advantage of hardware capabilities. This can result in significant speed improvements.\n",
        "3. **Parallelism:** Some vectorized operations can be parallelized, meaning that modern processors can execute multiple operations simultaneously. This parallelism further accelerates computation.\n",
        "4. **Simplicity:** Vectorized code is often more concise and easier to read than equivalent loop-based code, making it easier to maintain and understand.\n",
        "5. **Interoperability:** Libraries like NumPy integrate seamlessly with other data science and scientific computing libraries, allowing you to build complex data analysis and numerical computing workflows efficiently."
      ],
      "metadata": {
        "id": "qa_gEmC-wxLn"
      }
    },
    {
      "cell_type": "code",
      "source": [
        "import numpy as np\n",
        "import pandas as pd"
      ],
      "metadata": {
        "id": "3tnPVkc9hr1U"
      },
      "execution_count": 18,
      "outputs": []
    },
    {
      "cell_type": "markdown",
      "source": [
        "## for loops vs Vectorization<br>\n",
        "\n",
        "Compare adding 1.5 million numbers by for loop and by using np.sum()"
      ],
      "metadata": {
        "id": "CJ3ckiUAhH-T"
      }
    },
    {
      "cell_type": "markdown",
      "source": [
        "**Using a for loop**"
      ],
      "metadata": {
        "id": "luDdpZN7kYJO"
      }
    },
    {
      "cell_type": "code",
      "execution_count": 19,
      "metadata": {
        "colab": {
          "base_uri": "https://localhost:8080/"
        },
        "id": "Rm8koMmpg-P6",
        "outputId": "ca54cbf6-9d86-4654-fdf3-623d7db588bd"
      },
      "outputs": [
        {
          "output_type": "stream",
          "name": "stdout",
          "text": [
            "sum is:1124999250000\n",
            "CPU times: user 214 ms, sys: 988 µs, total: 215 ms\n",
            "Wall time: 218 ms\n"
          ]
        }
      ],
      "source": [
        "%%time\n",
        "# iterative sum\n",
        "total = 0\n",
        "# iterating through 1.5 Million numbers\n",
        "for item in range(0, 1500000):\n",
        "    total = total + item\n",
        "\n",
        "print('sum is:' + str(total))"
      ]
    },
    {
      "cell_type": "markdown",
      "source": [
        "**Using vectorization**"
      ],
      "metadata": {
        "id": "BGM7Vs8NkaWZ"
      }
    },
    {
      "cell_type": "code",
      "source": [
        "%%time\n",
        "print('sum is: ',np.sum(np.arange(1500000)))"
      ],
      "metadata": {
        "colab": {
          "base_uri": "https://localhost:8080/"
        },
        "id": "AQ2JGRw3ho7Z",
        "outputId": "5bb768dc-0d9e-40ac-9fcf-67a13704e67a"
      },
      "execution_count": 20,
      "outputs": [
        {
          "output_type": "stream",
          "name": "stdout",
          "text": [
            "sum is:  1124999250000\n",
            "CPU times: user 3.91 ms, sys: 988 µs, total: 4.89 ms\n",
            "Wall time: 6.77 ms\n"
          ]
        }
      ]
    },
    {
      "cell_type": "markdown",
      "source": [
        "Time for the for loop: 398 ms<br>\n",
        "Time for the vectorization: 21.1 ms<br>\n",
        "\n",
        "Vectorization took ~18x less time to execute as compared to the iteration using the range function.\n",
        "\n",
        "This difference will become more significant while working with Pandas DataFrame."
      ],
      "metadata": {
        "id": "ww-MXMVkiFeH"
      }
    },
    {
      "cell_type": "markdown",
      "source": [
        "**Assignment:** <br>\n",
        "How small must the number of values be so that the difference between the two techniques is negligible?"
      ],
      "metadata": {
        "id": "VTKrsyZBuOxy"
      }
    },
    {
      "cell_type": "markdown",
      "source": [
        "## Mathematical Operations (on DataFrame)<br>\n",
        "\n",
        "In Data Science, while working with Pandas DataFrame, the developers use loops to create new derived columns using mathematical operations.<br>\n",
        "\n",
        "In the following example, we can see how easily the loops can be replaced with Vectorization for such use cases."
      ],
      "metadata": {
        "id": "4YcqyhJuiRX5"
      }
    },
    {
      "cell_type": "markdown",
      "source": [
        "**Create a dataframe of 5 million rows**"
      ],
      "metadata": {
        "id": "UHaPY-zBiuS2"
      }
    },
    {
      "cell_type": "code",
      "source": [
        "df = pd.DataFrame(np.random.randint(1, 50, size=(5000000, 4)), columns=('a','b','c','d'))\n",
        "print('shape=',df.shape)\n",
        "df.head()"
      ],
      "metadata": {
        "colab": {
          "base_uri": "https://localhost:8080/",
          "height": 223
        },
        "id": "3duLZsBmid1I",
        "outputId": "9dc3c145-2919-41cf-d955-816ca1d7bb47"
      },
      "execution_count": 21,
      "outputs": [
        {
          "metadata": {
            "tags": null
          },
          "name": "stdout",
          "output_type": "stream",
          "text": [
            "shape= (5000000, 4)\n"
          ]
        },
        {
          "data": {
            "application/vnd.google.colaboratory.intrinsic+json": {
              "type": "dataframe",
              "variable_name": "df"
            },
            "text/html": [
              "\n",
              "  <div id=\"df-01956155-2bb6-4d94-9213-67eb55b698e6\" class=\"colab-df-container\">\n",
              "    <div>\n",
              "<style scoped>\n",
              "    .dataframe tbody tr th:only-of-type {\n",
              "        vertical-align: middle;\n",
              "    }\n",
              "\n",
              "    .dataframe tbody tr th {\n",
              "        vertical-align: top;\n",
              "    }\n",
              "\n",
              "    .dataframe thead th {\n",
              "        text-align: right;\n",
              "    }\n",
              "</style>\n",
              "<table border=\"1\" class=\"dataframe\">\n",
              "  <thead>\n",
              "    <tr style=\"text-align: right;\">\n",
              "      <th></th>\n",
              "      <th>a</th>\n",
              "      <th>b</th>\n",
              "      <th>c</th>\n",
              "      <th>d</th>\n",
              "    </tr>\n",
              "  </thead>\n",
              "  <tbody>\n",
              "    <tr>\n",
              "      <th>0</th>\n",
              "      <td>16</td>\n",
              "      <td>9</td>\n",
              "      <td>48</td>\n",
              "      <td>2</td>\n",
              "    </tr>\n",
              "    <tr>\n",
              "      <th>1</th>\n",
              "      <td>3</td>\n",
              "      <td>37</td>\n",
              "      <td>37</td>\n",
              "      <td>18</td>\n",
              "    </tr>\n",
              "    <tr>\n",
              "      <th>2</th>\n",
              "      <td>12</td>\n",
              "      <td>26</td>\n",
              "      <td>7</td>\n",
              "      <td>18</td>\n",
              "    </tr>\n",
              "    <tr>\n",
              "      <th>3</th>\n",
              "      <td>33</td>\n",
              "      <td>6</td>\n",
              "      <td>46</td>\n",
              "      <td>29</td>\n",
              "    </tr>\n",
              "    <tr>\n",
              "      <th>4</th>\n",
              "      <td>1</td>\n",
              "      <td>5</td>\n",
              "      <td>9</td>\n",
              "      <td>27</td>\n",
              "    </tr>\n",
              "  </tbody>\n",
              "</table>\n",
              "</div>\n",
              "    <div class=\"colab-df-buttons\">\n",
              "\n",
              "  <div class=\"colab-df-container\">\n",
              "    <button class=\"colab-df-convert\" onclick=\"convertToInteractive('df-01956155-2bb6-4d94-9213-67eb55b698e6')\"\n",
              "            title=\"Convert this dataframe to an interactive table.\"\n",
              "            style=\"display:none;\">\n",
              "\n",
              "  <svg xmlns=\"http://www.w3.org/2000/svg\" height=\"24px\" viewBox=\"0 -960 960 960\">\n",
              "    <path d=\"M120-120v-720h720v720H120Zm60-500h600v-160H180v160Zm220 220h160v-160H400v160Zm0 220h160v-160H400v160ZM180-400h160v-160H180v160Zm440 0h160v-160H620v160ZM180-180h160v-160H180v160Zm440 0h160v-160H620v160Z\"/>\n",
              "  </svg>\n",
              "    </button>\n",
              "\n",
              "  <style>\n",
              "    .colab-df-container {\n",
              "      display:flex;\n",
              "      gap: 12px;\n",
              "    }\n",
              "\n",
              "    .colab-df-convert {\n",
              "      background-color: #E8F0FE;\n",
              "      border: none;\n",
              "      border-radius: 50%;\n",
              "      cursor: pointer;\n",
              "      display: none;\n",
              "      fill: #1967D2;\n",
              "      height: 32px;\n",
              "      padding: 0 0 0 0;\n",
              "      width: 32px;\n",
              "    }\n",
              "\n",
              "    .colab-df-convert:hover {\n",
              "      background-color: #E2EBFA;\n",
              "      box-shadow: 0px 1px 2px rgba(60, 64, 67, 0.3), 0px 1px 3px 1px rgba(60, 64, 67, 0.15);\n",
              "      fill: #174EA6;\n",
              "    }\n",
              "\n",
              "    .colab-df-buttons div {\n",
              "      margin-bottom: 4px;\n",
              "    }\n",
              "\n",
              "    [theme=dark] .colab-df-convert {\n",
              "      background-color: #3B4455;\n",
              "      fill: #D2E3FC;\n",
              "    }\n",
              "\n",
              "    [theme=dark] .colab-df-convert:hover {\n",
              "      background-color: #434B5C;\n",
              "      box-shadow: 0px 1px 3px 1px rgba(0, 0, 0, 0.15);\n",
              "      filter: drop-shadow(0px 1px 2px rgba(0, 0, 0, 0.3));\n",
              "      fill: #FFFFFF;\n",
              "    }\n",
              "  </style>\n",
              "\n",
              "    <script>\n",
              "      const buttonEl =\n",
              "        document.querySelector('#df-01956155-2bb6-4d94-9213-67eb55b698e6 button.colab-df-convert');\n",
              "      buttonEl.style.display =\n",
              "        google.colab.kernel.accessAllowed ? 'block' : 'none';\n",
              "\n",
              "      async function convertToInteractive(key) {\n",
              "        const element = document.querySelector('#df-01956155-2bb6-4d94-9213-67eb55b698e6');\n",
              "        const dataTable =\n",
              "          await google.colab.kernel.invokeFunction('convertToInteractive',\n",
              "                                                    [key], {});\n",
              "        if (!dataTable) return;\n",
              "\n",
              "        const docLinkHtml = 'Like what you see? Visit the ' +\n",
              "          '<a target=\"_blank\" href=https://colab.research.google.com/notebooks/data_table.ipynb>data table notebook</a>'\n",
              "          + ' to learn more about interactive tables.';\n",
              "        element.innerHTML = '';\n",
              "        dataTable['output_type'] = 'display_data';\n",
              "        await google.colab.output.renderOutput(dataTable, element);\n",
              "        const docLink = document.createElement('div');\n",
              "        docLink.innerHTML = docLinkHtml;\n",
              "        element.appendChild(docLink);\n",
              "      }\n",
              "    </script>\n",
              "  </div>\n",
              "\n",
              "\n",
              "<div id=\"df-d93b1c71-fb1c-4727-800f-6d4a5abc5d70\">\n",
              "  <button class=\"colab-df-quickchart\" onclick=\"quickchart('df-d93b1c71-fb1c-4727-800f-6d4a5abc5d70')\"\n",
              "            title=\"Suggest charts\"\n",
              "            style=\"display:none;\">\n",
              "\n",
              "<svg xmlns=\"http://www.w3.org/2000/svg\" height=\"24px\"viewBox=\"0 0 24 24\"\n",
              "     width=\"24px\">\n",
              "    <g>\n",
              "        <path d=\"M19 3H5c-1.1 0-2 .9-2 2v14c0 1.1.9 2 2 2h14c1.1 0 2-.9 2-2V5c0-1.1-.9-2-2-2zM9 17H7v-7h2v7zm4 0h-2V7h2v10zm4 0h-2v-4h2v4z\"/>\n",
              "    </g>\n",
              "</svg>\n",
              "  </button>\n",
              "\n",
              "<style>\n",
              "  .colab-df-quickchart {\n",
              "      --bg-color: #E8F0FE;\n",
              "      --fill-color: #1967D2;\n",
              "      --hover-bg-color: #E2EBFA;\n",
              "      --hover-fill-color: #174EA6;\n",
              "      --disabled-fill-color: #AAA;\n",
              "      --disabled-bg-color: #DDD;\n",
              "  }\n",
              "\n",
              "  [theme=dark] .colab-df-quickchart {\n",
              "      --bg-color: #3B4455;\n",
              "      --fill-color: #D2E3FC;\n",
              "      --hover-bg-color: #434B5C;\n",
              "      --hover-fill-color: #FFFFFF;\n",
              "      --disabled-bg-color: #3B4455;\n",
              "      --disabled-fill-color: #666;\n",
              "  }\n",
              "\n",
              "  .colab-df-quickchart {\n",
              "    background-color: var(--bg-color);\n",
              "    border: none;\n",
              "    border-radius: 50%;\n",
              "    cursor: pointer;\n",
              "    display: none;\n",
              "    fill: var(--fill-color);\n",
              "    height: 32px;\n",
              "    padding: 0;\n",
              "    width: 32px;\n",
              "  }\n",
              "\n",
              "  .colab-df-quickchart:hover {\n",
              "    background-color: var(--hover-bg-color);\n",
              "    box-shadow: 0 1px 2px rgba(60, 64, 67, 0.3), 0 1px 3px 1px rgba(60, 64, 67, 0.15);\n",
              "    fill: var(--button-hover-fill-color);\n",
              "  }\n",
              "\n",
              "  .colab-df-quickchart-complete:disabled,\n",
              "  .colab-df-quickchart-complete:disabled:hover {\n",
              "    background-color: var(--disabled-bg-color);\n",
              "    fill: var(--disabled-fill-color);\n",
              "    box-shadow: none;\n",
              "  }\n",
              "\n",
              "  .colab-df-spinner {\n",
              "    border: 2px solid var(--fill-color);\n",
              "    border-color: transparent;\n",
              "    border-bottom-color: var(--fill-color);\n",
              "    animation:\n",
              "      spin 1s steps(1) infinite;\n",
              "  }\n",
              "\n",
              "  @keyframes spin {\n",
              "    0% {\n",
              "      border-color: transparent;\n",
              "      border-bottom-color: var(--fill-color);\n",
              "      border-left-color: var(--fill-color);\n",
              "    }\n",
              "    20% {\n",
              "      border-color: transparent;\n",
              "      border-left-color: var(--fill-color);\n",
              "      border-top-color: var(--fill-color);\n",
              "    }\n",
              "    30% {\n",
              "      border-color: transparent;\n",
              "      border-left-color: var(--fill-color);\n",
              "      border-top-color: var(--fill-color);\n",
              "      border-right-color: var(--fill-color);\n",
              "    }\n",
              "    40% {\n",
              "      border-color: transparent;\n",
              "      border-right-color: var(--fill-color);\n",
              "      border-top-color: var(--fill-color);\n",
              "    }\n",
              "    60% {\n",
              "      border-color: transparent;\n",
              "      border-right-color: var(--fill-color);\n",
              "    }\n",
              "    80% {\n",
              "      border-color: transparent;\n",
              "      border-right-color: var(--fill-color);\n",
              "      border-bottom-color: var(--fill-color);\n",
              "    }\n",
              "    90% {\n",
              "      border-color: transparent;\n",
              "      border-bottom-color: var(--fill-color);\n",
              "    }\n",
              "  }\n",
              "</style>\n",
              "\n",
              "  <script>\n",
              "    async function quickchart(key) {\n",
              "      const quickchartButtonEl =\n",
              "        document.querySelector('#' + key + ' button');\n",
              "      quickchartButtonEl.disabled = true;  // To prevent multiple clicks.\n",
              "      quickchartButtonEl.classList.add('colab-df-spinner');\n",
              "      try {\n",
              "        const charts = await google.colab.kernel.invokeFunction(\n",
              "            'suggestCharts', [key], {});\n",
              "      } catch (error) {\n",
              "        console.error('Error during call to suggestCharts:', error);\n",
              "      }\n",
              "      quickchartButtonEl.classList.remove('colab-df-spinner');\n",
              "      quickchartButtonEl.classList.add('colab-df-quickchart-complete');\n",
              "    }\n",
              "    (() => {\n",
              "      let quickchartButtonEl =\n",
              "        document.querySelector('#df-d93b1c71-fb1c-4727-800f-6d4a5abc5d70 button');\n",
              "      quickchartButtonEl.style.display =\n",
              "        google.colab.kernel.accessAllowed ? 'block' : 'none';\n",
              "    })();\n",
              "  </script>\n",
              "</div>\n",
              "    </div>\n",
              "  </div>\n"
            ],
            "text/plain": [
              "    a   b   c   d\n",
              "0  16   9  48   2\n",
              "1   3  37  37  18\n",
              "2  12  26   7  18\n",
              "3  33   6  46  29\n",
              "4   1   5   9  27"
            ]
          },
          "execution_count": 21,
          "metadata": {},
          "output_type": "execute_result"
        }
      ]
    },
    {
      "cell_type": "markdown",
      "source": [
        "### creating a new column<br>\n",
        "Create a new column ‘ratio’ to find the ratio of the column ‘d’ and ‘c’."
      ],
      "metadata": {
        "id": "V37t09sOi_I0"
      }
    },
    {
      "cell_type": "markdown",
      "source": [
        "**Using a for loop to create a new column**<br>\n",
        "Be patient, this can take up to 7 minutes"
      ],
      "metadata": {
        "id": "xTgueXkxkogd"
      }
    },
    {
      "cell_type": "code",
      "source": [
        "%%time\n",
        "# Iterating through DataFrame using iterrows\n",
        "for idx, row in df.iterrows():\n",
        "    # creating a new column\n",
        "    df.at[idx,'ratio'] = 100 * (row[\"d\"] / row[\"c\"])"
      ],
      "metadata": {
        "colab": {
          "base_uri": "https://localhost:8080/"
        },
        "id": "eWGSr856jFo8",
        "outputId": "85939e8f-f27a-4b97-a609-7356399275ae"
      },
      "execution_count": 22,
      "outputs": [
        {
          "output_type": "stream",
          "name": "stdout",
          "text": [
            "CPU times: user 6min 27s, sys: 462 ms, total: 6min 27s\n",
            "Wall time: 6min 30s\n"
          ]
        }
      ]
    },
    {
      "cell_type": "markdown",
      "source": [
        "**Using vectorization to create a new column**"
      ],
      "metadata": {
        "id": "tzSqAw0Pkf4H"
      }
    },
    {
      "cell_type": "code",
      "source": [
        "%%time\n",
        "df[\"ratio\"] = 100 * (df[\"d\"] / df[\"c\"])"
      ],
      "metadata": {
        "colab": {
          "base_uri": "https://localhost:8080/"
        },
        "id": "yPwcWTlIkgEj",
        "outputId": "2ecae051-1193-4d24-d84c-6d920ac63260"
      },
      "execution_count": 23,
      "outputs": [
        {
          "output_type": "stream",
          "name": "stdout",
          "text": [
            "CPU times: user 77.9 ms, sys: 26 ms, total: 104 ms\n",
            "Wall time: 68.3 ms\n"
          ]
        }
      ]
    },
    {
      "cell_type": "markdown",
      "source": [
        "We can see a significant improvement with DataFrame, the time taken by the Vectorization operation is drastically faster as compared to the loops in Python."
      ],
      "metadata": {
        "id": "DVXu-1iNk0yu"
      }
    },
    {
      "cell_type": "markdown",
      "source": [
        "**Assignment:**<br>\n",
        "How small must the DataFrame be so that the difference between the two techniques is negligible?"
      ],
      "metadata": {
        "id": "Vn_2KOnZuhit"
      }
    },
    {
      "cell_type": "markdown",
      "source": [
        "### If-else Statements (on DataFrame)\n",
        "\n",
        "A lot of operations that require using the ‘If-else’ logic. We can easily replace these logics with Vectorization operations in Python.\n",
        "\n",
        "Look at the following example to understand it better (we will be using the 5 million row DataFrame that we created above):\n",
        "\n",
        "Imagine we want to create a new column ‘e’ based on some conditions on the exiting column ‘a’."
      ],
      "metadata": {
        "id": "PwN7-NJ7k9jM"
      }
    },
    {
      "cell_type": "markdown",
      "source": [
        "**Creating a new column using a for loop and if-else**<br>\n",
        "Be patient, this will take a while (~10min)"
      ],
      "metadata": {
        "id": "XfeIjW31lCES"
      }
    },
    {
      "cell_type": "code",
      "source": [
        "%%time\n",
        "for idx, row in df.iterrows():\n",
        "    if row.a == 0:\n",
        "        df.at[idx,'e'] = row.d\n",
        "    elif (row.a <= 25) & (row.a > 0):\n",
        "        df.at[idx,'e'] = (row.b)-(row.c)\n",
        "    else:\n",
        "        df.at[idx,'e'] = row.b + row.c"
      ],
      "metadata": {
        "id": "emv7H8nwlsVf"
      },
      "execution_count": null,
      "outputs": []
    },
    {
      "cell_type": "markdown",
      "source": [
        "**Create a new column using vectorization**"
      ],
      "metadata": {
        "id": "i4z8mvd5mD8C"
      }
    },
    {
      "cell_type": "code",
      "source": [
        "%%time\n",
        "df['e'] = df['b'] + df['c']\n",
        "df.loc[df['a'] <= 25, 'e'] = df['b'] -df['c']\n",
        "df.loc[df['a']==0, 'e'] = df['d']"
      ],
      "metadata": {
        "colab": {
          "base_uri": "https://localhost:8080/"
        },
        "id": "lfsjam8-mEFb",
        "outputId": "22fb9d18-de37-4def-c5c2-1f68b407123c"
      },
      "execution_count": 8,
      "outputs": [
        {
          "output_type": "stream",
          "name": "stdout",
          "text": [
            "CPU times: user 259 ms, sys: 113 ms, total: 372 ms\n",
            "Wall time: 310 ms\n"
          ]
        }
      ]
    },
    {
      "cell_type": "markdown",
      "source": [
        "**Assignment:**<br>\n",
        "How small must the DataFrame be so that the difference between the two techniques is negligible?"
      ],
      "metadata": {
        "id": "l2x3-vequs9x"
      }
    },
    {
      "cell_type": "markdown",
      "source": [
        "### Solving Machine Learning/Deep Learning Networks<br>\n",
        "\n",
        "Calculate the following equation <br>\n",
        "\n",
        " $y=m_1x_1+m_2x_2+m_3x_3+m_4x_4+m_5x_5+c\n",
        " $\n"
      ],
      "metadata": {
        "id": "29bEcPjYobOr"
      }
    },
    {
      "cell_type": "markdown",
      "source": [
        "m is an array of 5 values<br>\n",
        "x is an array of 5 million values"
      ],
      "metadata": {
        "id": "Z-jUEmrgrHbZ"
      }
    },
    {
      "cell_type": "code",
      "source": [
        "# setting initial values of m\n",
        "m = np.random.rand(1,5)\n",
        "\n",
        "# input values for 5 million rows\n",
        "x = np.random.rand(5000000,5)"
      ],
      "metadata": {
        "id": "YxDbEkM5ofa8"
      },
      "execution_count": 9,
      "outputs": []
    },
    {
      "cell_type": "code",
      "source": [
        "m"
      ],
      "metadata": {
        "colab": {
          "base_uri": "https://localhost:8080/"
        },
        "id": "xeJ2e2cVoiqi",
        "outputId": "41182ab2-16e2-45c6-b654-e9c44a95d412"
      },
      "execution_count": 10,
      "outputs": [
        {
          "output_type": "execute_result",
          "data": {
            "text/plain": [
              "array([[0.95200946, 0.43928255, 0.93047783, 0.70494671, 0.31859983]])"
            ]
          },
          "metadata": {},
          "execution_count": 10
        }
      ]
    },
    {
      "cell_type": "code",
      "source": [
        "x"
      ],
      "metadata": {
        "colab": {
          "base_uri": "https://localhost:8080/"
        },
        "id": "G12rmqtaoutc",
        "outputId": "b8d245b6-d854-4017-c56d-3751cbce3b70"
      },
      "execution_count": 11,
      "outputs": [
        {
          "output_type": "execute_result",
          "data": {
            "text/plain": [
              "array([[0.37805996, 0.62819801, 0.32690518, 0.61344767, 0.47223032],\n",
              "       [0.48225794, 0.64857166, 0.55032148, 0.43736745, 0.91035641],\n",
              "       [0.79857815, 0.4199085 , 0.14098982, 0.42027611, 0.62189277],\n",
              "       ...,\n",
              "       [0.90147354, 0.44011535, 0.67637978, 0.66136312, 0.79183972],\n",
              "       [0.08146755, 0.90763156, 0.00393991, 0.18816702, 0.99221964],\n",
              "       [0.59738234, 0.91777501, 0.23676719, 0.14013995, 0.24832371]])"
            ]
          },
          "metadata": {},
          "execution_count": 11
        }
      ]
    },
    {
      "cell_type": "markdown",
      "source": [
        "**Solving the equation with for loops**"
      ],
      "metadata": {
        "id": "_udsQo3lrQTJ"
      }
    },
    {
      "cell_type": "code",
      "source": [
        "%%time\n",
        "total = 0\n",
        "for i in range(0,5000000):\n",
        "    total = 0\n",
        "    for j in range(0,5):\n",
        "        total = total + x[i][j]*m[0][j]"
      ],
      "metadata": {
        "colab": {
          "base_uri": "https://localhost:8080/",
          "height": 124
        },
        "id": "lgN3aGWqozrc",
        "outputId": "e9310802-b03c-4304-fa93-19e97e5758fd"
      },
      "execution_count": 12,
      "outputs": [
        {
          "output_type": "error",
          "ename": "KeyboardInterrupt",
          "evalue": "",
          "traceback": [
            "\u001b[0;31m---------------------------------------------------------------------------\u001b[0m",
            "\u001b[0;31mKeyboardInterrupt\u001b[0m                         Traceback (most recent call last)",
            "\u001b[0;32m<timed exec>\u001b[0m in \u001b[0;36m<module>\u001b[0;34m\u001b[0m\n",
            "\u001b[0;31mKeyboardInterrupt\u001b[0m: "
          ]
        }
      ]
    },
    {
      "cell_type": "markdown",
      "source": [
        "**Solving the equation with vectorization**"
      ],
      "metadata": {
        "id": "V7_f0p-KrUuz"
      }
    },
    {
      "cell_type": "code",
      "source": [
        "%%time\n",
        "#dot product\n",
        "np.dot(x,m.T)"
      ],
      "metadata": {
        "colab": {
          "base_uri": "https://localhost:8080/"
        },
        "id": "Llqww1_qpHGH",
        "outputId": "86ffbb27-2ae8-4a5e-bea9-b077f04b1522"
      },
      "execution_count": 13,
      "outputs": [
        {
          "output_type": "stream",
          "name": "stdout",
          "text": [
            "CPU times: user 75.1 ms, sys: 21 ms, total: 96 ms\n",
            "Wall time: 61.4 ms\n"
          ]
        },
        {
          "output_type": "execute_result",
          "data": {
            "text/plain": [
              "array([[1.52295152],\n",
              "       [1.85444241],\n",
              "       [1.57030751],\n",
              "       ...,\n",
              "       [2.39940848],\n",
              "       [0.9286993 ],\n",
              "       [1.37008989]])"
            ]
          },
          "metadata": {},
          "execution_count": 13
        }
      ]
    },
    {
      "cell_type": "markdown",
      "source": [
        "For loops: 24.8 seconds<br>\n",
        "Vectorization: 77.5 ms"
      ],
      "metadata": {
        "id": "mQlmKHeGrY2F"
      }
    },
    {
      "cell_type": "markdown",
      "source": [
        "**Assignment:**<br>\n",
        "How small must x be so that the difference between the two techniques is negligible?"
      ],
      "metadata": {
        "id": "J_ADxUPVuwHZ"
      }
    },
    {
      "cell_type": "markdown",
      "source": [
        "## Compare list to arrays"
      ],
      "metadata": {
        "id": "miSKXOKMsoqu"
      }
    },
    {
      "cell_type": "markdown",
      "source": [
        "**Create two NumPy arrays and two lists for the comparison**"
      ],
      "metadata": {
        "id": "hdSA3jTYtr6E"
      }
    },
    {
      "cell_type": "code",
      "source": [
        "\n",
        "array1 = np.random.randint(1, 100, size=5000000)\n",
        "array2 = np.random.randint(1, 100, size=5000000)\n",
        "list1 = list(array1)\n",
        "list2 = list(array2)"
      ],
      "metadata": {
        "id": "p9FF-aTRtk4x"
      },
      "execution_count": 14,
      "outputs": []
    },
    {
      "cell_type": "markdown",
      "source": [
        "### Applying Functions\n",
        "Vectorization also allows you to apply custom functions to columns."
      ],
      "metadata": {
        "id": "fMTpuzf5vx45"
      }
    },
    {
      "cell_type": "markdown",
      "source": [
        "**Define functions for the addition function**"
      ],
      "metadata": {
        "id": "NNUdWUeftxMX"
      }
    },
    {
      "cell_type": "code",
      "source": [
        "# Vectorized processing with NumPy\n",
        "def numpy_vectorized():\n",
        "    result = array1 + array2\n",
        "\n",
        "# Traditional loop-based processing\n",
        "def loop_based():\n",
        "    result = []\n",
        "    for i in range(len(list1)):\n",
        "        result.append(list1[i] + list2[i])"
      ],
      "metadata": {
        "id": "eu4rnhDxso3v"
      },
      "execution_count": 15,
      "outputs": []
    },
    {
      "cell_type": "markdown",
      "source": [
        "**Compare the CPU time between the two data structures**"
      ],
      "metadata": {
        "id": "Q5Emy6HSt5px"
      }
    },
    {
      "cell_type": "code",
      "source": [
        "%%time\n",
        "numpy_vectorized()"
      ],
      "metadata": {
        "colab": {
          "base_uri": "https://localhost:8080/"
        },
        "id": "Dd1uaYqNs-z0",
        "outputId": "ceb95b23-8f30-4434-9ef3-50a8d63dda4e"
      },
      "execution_count": 16,
      "outputs": [
        {
          "output_type": "stream",
          "name": "stdout",
          "text": [
            "CPU times: user 9.64 ms, sys: 16 ms, total: 25.6 ms\n",
            "Wall time: 30.2 ms\n"
          ]
        }
      ]
    },
    {
      "cell_type": "code",
      "source": [
        "%%time\n",
        "loop_based()"
      ],
      "metadata": {
        "colab": {
          "base_uri": "https://localhost:8080/"
        },
        "id": "89IK_oPutNB0",
        "outputId": "228f61c2-1fcd-4965-91b8-a1cd7289e1c9"
      },
      "execution_count": 17,
      "outputs": [
        {
          "output_type": "stream",
          "name": "stdout",
          "text": [
            "CPU times: user 1.05 s, sys: 149 ms, total: 1.2 s\n",
            "Wall time: 1.21 s\n"
          ]
        }
      ]
    },
    {
      "cell_type": "markdown",
      "source": [
        "**Assignment:**<br>\n",
        "How small must the arrays be so that the difference between the two techniques is negligible?"
      ],
      "metadata": {
        "id": "c5o_709gu2cA"
      }
    }
  ]
}