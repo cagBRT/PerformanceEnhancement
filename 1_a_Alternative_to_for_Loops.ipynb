{
  "nbformat": 4,
  "nbformat_minor": 0,
  "metadata": {
    "colab": {
      "provenance": [],
      "authorship_tag": "ABX9TyNZ+Af6Li7CPctRVYyZGh9O",
      "include_colab_link": true
    },
    "kernelspec": {
      "name": "python3",
      "display_name": "Python 3"
    },
    "language_info": {
      "name": "python"
    }
  },
  "cells": [
    {
      "cell_type": "markdown",
      "metadata": {
        "id": "view-in-github",
        "colab_type": "text"
      },
      "source": [
        "<a href=\"https://colab.research.google.com/github/cagBRT/PerformanceEnhancement/blob/main/1_a_Alternative_to_for_Loops.ipynb\" target=\"_parent\"><img src=\"https://colab.research.google.com/assets/colab-badge.svg\" alt=\"Open In Colab\"/></a>"
      ]
    },
    {
      "cell_type": "markdown",
      "source": [
        "Vectorization is the technique of implementing (NumPy) array operations on a dataset. In the background, it applies the operations to all the elements of an array or series in one go (unlike a ‘for’ loop that manipulates one row at a time).<br>\n",
        "\n",
        "\n",
        "**Vectorization in Python is super fast and should be preferred over loops, whenever we are working with very large datasets.**\n",
        "\n",
        "\n",
        "\n"
      ],
      "metadata": {
        "id": "VTsypMZhhFOw"
      }
    },
    {
      "cell_type": "code",
      "source": [
        "import numpy as np\n",
        "import pandas as pd"
      ],
      "metadata": {
        "id": "3tnPVkc9hr1U"
      },
      "execution_count": 8,
      "outputs": []
    },
    {
      "cell_type": "markdown",
      "source": [
        "## for loops vs Vectorization<br>\n",
        "\n",
        "Compare adding 1.5 million numbers by for loop and by using np.sum()"
      ],
      "metadata": {
        "id": "CJ3ckiUAhH-T"
      }
    },
    {
      "cell_type": "markdown",
      "source": [
        "**Using a for loop**"
      ],
      "metadata": {
        "id": "luDdpZN7kYJO"
      }
    },
    {
      "cell_type": "code",
      "execution_count": 2,
      "metadata": {
        "colab": {
          "base_uri": "https://localhost:8080/"
        },
        "id": "Rm8koMmpg-P6",
        "outputId": "a63cb34e-d260-46ef-ff43-fa92c6d44744"
      },
      "outputs": [
        {
          "output_type": "stream",
          "name": "stdout",
          "text": [
            "sum is:1124999250000\n",
            "CPU times: user 384 ms, sys: 2.26 ms, total: 386 ms\n",
            "Wall time: 398 ms\n"
          ]
        }
      ],
      "source": [
        "%%time\n",
        "# iterative sum\n",
        "total = 0\n",
        "# iterating through 1.5 Million numbers\n",
        "for item in range(0, 1500000):\n",
        "    total = total + item\n",
        "\n",
        "print('sum is:' + str(total))"
      ]
    },
    {
      "cell_type": "markdown",
      "source": [
        "**Using vectorization**"
      ],
      "metadata": {
        "id": "BGM7Vs8NkaWZ"
      }
    },
    {
      "cell_type": "code",
      "source": [
        "%%time\n",
        "print('sum is: ',np.sum(np.arange(1500000)))"
      ],
      "metadata": {
        "colab": {
          "base_uri": "https://localhost:8080/"
        },
        "id": "AQ2JGRw3ho7Z",
        "outputId": "c0093ea2-3ada-41b9-f17a-8275d0b0fe0d"
      },
      "execution_count": 6,
      "outputs": [
        {
          "output_type": "stream",
          "name": "stdout",
          "text": [
            "sum is:  1124999250000\n",
            "CPU times: user 5.46 ms, sys: 4.09 ms, total: 9.55 ms\n",
            "Wall time: 21.1 ms\n"
          ]
        }
      ]
    },
    {
      "cell_type": "markdown",
      "source": [
        "Time for the for loop: 398 ms<br>\n",
        "Time for the vectorization: 21.1 ms<br>\n",
        "\n",
        "Vectorization took ~18x less time to execute as compared to the iteration using the range function.\n",
        "\n",
        "This difference will become more significant while working with Pandas DataFrame."
      ],
      "metadata": {
        "id": "ww-MXMVkiFeH"
      }
    },
    {
      "cell_type": "markdown",
      "source": [
        "## Mathematical Operations (on DataFrame)<br>\n",
        "\n",
        "In Data Science, while working with Pandas DataFrame, the developers use loops to create new derived columns using mathematical operations.<br>\n",
        "\n",
        "In the following example, we can see how easily the loops can be replaced with Vectorization for such use cases."
      ],
      "metadata": {
        "id": "4YcqyhJuiRX5"
      }
    },
    {
      "cell_type": "markdown",
      "source": [
        "**Create a dataframe of 5 million rows**"
      ],
      "metadata": {
        "id": "UHaPY-zBiuS2"
      }
    },
    {
      "cell_type": "code",
      "source": [
        "df = pd.DataFrame(np.random.randint(1, 50, size=(5000000, 4)), columns=('a','b','c','d'))\n",
        "print('shape=',df.shape)\n",
        "df.head()"
      ],
      "metadata": {
        "colab": {
          "base_uri": "https://localhost:8080/",
          "height": 223
        },
        "id": "3duLZsBmid1I",
        "outputId": "996f2b0d-2cc4-484b-dbe5-bb7998484d63"
      },
      "execution_count": 11,
      "outputs": [
        {
          "output_type": "stream",
          "name": "stdout",
          "text": [
            "shape= (5000000, 4)\n"
          ]
        },
        {
          "output_type": "execute_result",
          "data": {
            "text/plain": [
              "    a   b   c   d\n",
              "0  16   2   1  23\n",
              "1  16  19  26   9\n",
              "2  27  37  27  34\n",
              "3   5  33  12  42\n",
              "4   6  19  37  12"
            ],
            "text/html": [
              "\n",
              "  <div id=\"df-8fb29160-8a27-49b8-9d4a-3ba32d1eff1c\" class=\"colab-df-container\">\n",
              "    <div>\n",
              "<style scoped>\n",
              "    .dataframe tbody tr th:only-of-type {\n",
              "        vertical-align: middle;\n",
              "    }\n",
              "\n",
              "    .dataframe tbody tr th {\n",
              "        vertical-align: top;\n",
              "    }\n",
              "\n",
              "    .dataframe thead th {\n",
              "        text-align: right;\n",
              "    }\n",
              "</style>\n",
              "<table border=\"1\" class=\"dataframe\">\n",
              "  <thead>\n",
              "    <tr style=\"text-align: right;\">\n",
              "      <th></th>\n",
              "      <th>a</th>\n",
              "      <th>b</th>\n",
              "      <th>c</th>\n",
              "      <th>d</th>\n",
              "    </tr>\n",
              "  </thead>\n",
              "  <tbody>\n",
              "    <tr>\n",
              "      <th>0</th>\n",
              "      <td>16</td>\n",
              "      <td>2</td>\n",
              "      <td>1</td>\n",
              "      <td>23</td>\n",
              "    </tr>\n",
              "    <tr>\n",
              "      <th>1</th>\n",
              "      <td>16</td>\n",
              "      <td>19</td>\n",
              "      <td>26</td>\n",
              "      <td>9</td>\n",
              "    </tr>\n",
              "    <tr>\n",
              "      <th>2</th>\n",
              "      <td>27</td>\n",
              "      <td>37</td>\n",
              "      <td>27</td>\n",
              "      <td>34</td>\n",
              "    </tr>\n",
              "    <tr>\n",
              "      <th>3</th>\n",
              "      <td>5</td>\n",
              "      <td>33</td>\n",
              "      <td>12</td>\n",
              "      <td>42</td>\n",
              "    </tr>\n",
              "    <tr>\n",
              "      <th>4</th>\n",
              "      <td>6</td>\n",
              "      <td>19</td>\n",
              "      <td>37</td>\n",
              "      <td>12</td>\n",
              "    </tr>\n",
              "  </tbody>\n",
              "</table>\n",
              "</div>\n",
              "    <div class=\"colab-df-buttons\">\n",
              "\n",
              "  <div class=\"colab-df-container\">\n",
              "    <button class=\"colab-df-convert\" onclick=\"convertToInteractive('df-8fb29160-8a27-49b8-9d4a-3ba32d1eff1c')\"\n",
              "            title=\"Convert this dataframe to an interactive table.\"\n",
              "            style=\"display:none;\">\n",
              "\n",
              "  <svg xmlns=\"http://www.w3.org/2000/svg\" height=\"24px\" viewBox=\"0 -960 960 960\">\n",
              "    <path d=\"M120-120v-720h720v720H120Zm60-500h600v-160H180v160Zm220 220h160v-160H400v160Zm0 220h160v-160H400v160ZM180-400h160v-160H180v160Zm440 0h160v-160H620v160ZM180-180h160v-160H180v160Zm440 0h160v-160H620v160Z\"/>\n",
              "  </svg>\n",
              "    </button>\n",
              "\n",
              "  <style>\n",
              "    .colab-df-container {\n",
              "      display:flex;\n",
              "      gap: 12px;\n",
              "    }\n",
              "\n",
              "    .colab-df-convert {\n",
              "      background-color: #E8F0FE;\n",
              "      border: none;\n",
              "      border-radius: 50%;\n",
              "      cursor: pointer;\n",
              "      display: none;\n",
              "      fill: #1967D2;\n",
              "      height: 32px;\n",
              "      padding: 0 0 0 0;\n",
              "      width: 32px;\n",
              "    }\n",
              "\n",
              "    .colab-df-convert:hover {\n",
              "      background-color: #E2EBFA;\n",
              "      box-shadow: 0px 1px 2px rgba(60, 64, 67, 0.3), 0px 1px 3px 1px rgba(60, 64, 67, 0.15);\n",
              "      fill: #174EA6;\n",
              "    }\n",
              "\n",
              "    .colab-df-buttons div {\n",
              "      margin-bottom: 4px;\n",
              "    }\n",
              "\n",
              "    [theme=dark] .colab-df-convert {\n",
              "      background-color: #3B4455;\n",
              "      fill: #D2E3FC;\n",
              "    }\n",
              "\n",
              "    [theme=dark] .colab-df-convert:hover {\n",
              "      background-color: #434B5C;\n",
              "      box-shadow: 0px 1px 3px 1px rgba(0, 0, 0, 0.15);\n",
              "      filter: drop-shadow(0px 1px 2px rgba(0, 0, 0, 0.3));\n",
              "      fill: #FFFFFF;\n",
              "    }\n",
              "  </style>\n",
              "\n",
              "    <script>\n",
              "      const buttonEl =\n",
              "        document.querySelector('#df-8fb29160-8a27-49b8-9d4a-3ba32d1eff1c button.colab-df-convert');\n",
              "      buttonEl.style.display =\n",
              "        google.colab.kernel.accessAllowed ? 'block' : 'none';\n",
              "\n",
              "      async function convertToInteractive(key) {\n",
              "        const element = document.querySelector('#df-8fb29160-8a27-49b8-9d4a-3ba32d1eff1c');\n",
              "        const dataTable =\n",
              "          await google.colab.kernel.invokeFunction('convertToInteractive',\n",
              "                                                    [key], {});\n",
              "        if (!dataTable) return;\n",
              "\n",
              "        const docLinkHtml = 'Like what you see? Visit the ' +\n",
              "          '<a target=\"_blank\" href=https://colab.research.google.com/notebooks/data_table.ipynb>data table notebook</a>'\n",
              "          + ' to learn more about interactive tables.';\n",
              "        element.innerHTML = '';\n",
              "        dataTable['output_type'] = 'display_data';\n",
              "        await google.colab.output.renderOutput(dataTable, element);\n",
              "        const docLink = document.createElement('div');\n",
              "        docLink.innerHTML = docLinkHtml;\n",
              "        element.appendChild(docLink);\n",
              "      }\n",
              "    </script>\n",
              "  </div>\n",
              "\n",
              "\n",
              "<div id=\"df-30ab685c-344c-4cbd-9655-ff103d34fd03\">\n",
              "  <button class=\"colab-df-quickchart\" onclick=\"quickchart('df-30ab685c-344c-4cbd-9655-ff103d34fd03')\"\n",
              "            title=\"Suggest charts\"\n",
              "            style=\"display:none;\">\n",
              "\n",
              "<svg xmlns=\"http://www.w3.org/2000/svg\" height=\"24px\"viewBox=\"0 0 24 24\"\n",
              "     width=\"24px\">\n",
              "    <g>\n",
              "        <path d=\"M19 3H5c-1.1 0-2 .9-2 2v14c0 1.1.9 2 2 2h14c1.1 0 2-.9 2-2V5c0-1.1-.9-2-2-2zM9 17H7v-7h2v7zm4 0h-2V7h2v10zm4 0h-2v-4h2v4z\"/>\n",
              "    </g>\n",
              "</svg>\n",
              "  </button>\n",
              "\n",
              "<style>\n",
              "  .colab-df-quickchart {\n",
              "      --bg-color: #E8F0FE;\n",
              "      --fill-color: #1967D2;\n",
              "      --hover-bg-color: #E2EBFA;\n",
              "      --hover-fill-color: #174EA6;\n",
              "      --disabled-fill-color: #AAA;\n",
              "      --disabled-bg-color: #DDD;\n",
              "  }\n",
              "\n",
              "  [theme=dark] .colab-df-quickchart {\n",
              "      --bg-color: #3B4455;\n",
              "      --fill-color: #D2E3FC;\n",
              "      --hover-bg-color: #434B5C;\n",
              "      --hover-fill-color: #FFFFFF;\n",
              "      --disabled-bg-color: #3B4455;\n",
              "      --disabled-fill-color: #666;\n",
              "  }\n",
              "\n",
              "  .colab-df-quickchart {\n",
              "    background-color: var(--bg-color);\n",
              "    border: none;\n",
              "    border-radius: 50%;\n",
              "    cursor: pointer;\n",
              "    display: none;\n",
              "    fill: var(--fill-color);\n",
              "    height: 32px;\n",
              "    padding: 0;\n",
              "    width: 32px;\n",
              "  }\n",
              "\n",
              "  .colab-df-quickchart:hover {\n",
              "    background-color: var(--hover-bg-color);\n",
              "    box-shadow: 0 1px 2px rgba(60, 64, 67, 0.3), 0 1px 3px 1px rgba(60, 64, 67, 0.15);\n",
              "    fill: var(--button-hover-fill-color);\n",
              "  }\n",
              "\n",
              "  .colab-df-quickchart-complete:disabled,\n",
              "  .colab-df-quickchart-complete:disabled:hover {\n",
              "    background-color: var(--disabled-bg-color);\n",
              "    fill: var(--disabled-fill-color);\n",
              "    box-shadow: none;\n",
              "  }\n",
              "\n",
              "  .colab-df-spinner {\n",
              "    border: 2px solid var(--fill-color);\n",
              "    border-color: transparent;\n",
              "    border-bottom-color: var(--fill-color);\n",
              "    animation:\n",
              "      spin 1s steps(1) infinite;\n",
              "  }\n",
              "\n",
              "  @keyframes spin {\n",
              "    0% {\n",
              "      border-color: transparent;\n",
              "      border-bottom-color: var(--fill-color);\n",
              "      border-left-color: var(--fill-color);\n",
              "    }\n",
              "    20% {\n",
              "      border-color: transparent;\n",
              "      border-left-color: var(--fill-color);\n",
              "      border-top-color: var(--fill-color);\n",
              "    }\n",
              "    30% {\n",
              "      border-color: transparent;\n",
              "      border-left-color: var(--fill-color);\n",
              "      border-top-color: var(--fill-color);\n",
              "      border-right-color: var(--fill-color);\n",
              "    }\n",
              "    40% {\n",
              "      border-color: transparent;\n",
              "      border-right-color: var(--fill-color);\n",
              "      border-top-color: var(--fill-color);\n",
              "    }\n",
              "    60% {\n",
              "      border-color: transparent;\n",
              "      border-right-color: var(--fill-color);\n",
              "    }\n",
              "    80% {\n",
              "      border-color: transparent;\n",
              "      border-right-color: var(--fill-color);\n",
              "      border-bottom-color: var(--fill-color);\n",
              "    }\n",
              "    90% {\n",
              "      border-color: transparent;\n",
              "      border-bottom-color: var(--fill-color);\n",
              "    }\n",
              "  }\n",
              "</style>\n",
              "\n",
              "  <script>\n",
              "    async function quickchart(key) {\n",
              "      const quickchartButtonEl =\n",
              "        document.querySelector('#' + key + ' button');\n",
              "      quickchartButtonEl.disabled = true;  // To prevent multiple clicks.\n",
              "      quickchartButtonEl.classList.add('colab-df-spinner');\n",
              "      try {\n",
              "        const charts = await google.colab.kernel.invokeFunction(\n",
              "            'suggestCharts', [key], {});\n",
              "      } catch (error) {\n",
              "        console.error('Error during call to suggestCharts:', error);\n",
              "      }\n",
              "      quickchartButtonEl.classList.remove('colab-df-spinner');\n",
              "      quickchartButtonEl.classList.add('colab-df-quickchart-complete');\n",
              "    }\n",
              "    (() => {\n",
              "      let quickchartButtonEl =\n",
              "        document.querySelector('#df-30ab685c-344c-4cbd-9655-ff103d34fd03 button');\n",
              "      quickchartButtonEl.style.display =\n",
              "        google.colab.kernel.accessAllowed ? 'block' : 'none';\n",
              "    })();\n",
              "  </script>\n",
              "</div>\n",
              "    </div>\n",
              "  </div>\n"
            ]
          },
          "metadata": {},
          "execution_count": 11
        }
      ]
    },
    {
      "cell_type": "markdown",
      "source": [
        "### creating a new column<br>\n",
        "Create a new column ‘ratio’ to find the ratio of the column ‘d’ and ‘c’."
      ],
      "metadata": {
        "id": "V37t09sOi_I0"
      }
    },
    {
      "cell_type": "markdown",
      "source": [
        "**Using a for loop to create a new column**<br>\n",
        "Be patient, this can take up to 7 minutes"
      ],
      "metadata": {
        "id": "xTgueXkxkogd"
      }
    },
    {
      "cell_type": "code",
      "source": [
        "%%time\n",
        "# Iterating through DataFrame using iterrows\n",
        "for idx, row in df.iterrows():\n",
        "    # creating a new column\n",
        "    df.at[idx,'ratio'] = 100 * (row[\"d\"] / row[\"c\"])"
      ],
      "metadata": {
        "colab": {
          "base_uri": "https://localhost:8080/"
        },
        "id": "eWGSr856jFo8",
        "outputId": "a03fe04e-b693-4d46-f3a3-25b7583dd3a4"
      },
      "execution_count": 12,
      "outputs": [
        {
          "metadata": {
            "tags": null
          },
          "name": "stderr",
          "output_type": "stream",
          "text": [
            "<timed exec>:4: RuntimeWarning: divide by zero encountered in long_scalars\n",
            "<timed exec>:4: RuntimeWarning: invalid value encountered in long_scalars\n"
          ]
        },
        {
          "output_type": "stream",
          "name": "stdout",
          "text": [
            "CPU times: user 6min 51s, sys: 747 ms, total: 6min 52s\n",
            "Wall time: 6min 57s\n"
          ]
        }
      ]
    },
    {
      "cell_type": "markdown",
      "source": [
        "**Using vectorization to create a new column**"
      ],
      "metadata": {
        "id": "tzSqAw0Pkf4H"
      }
    },
    {
      "cell_type": "code",
      "source": [
        "%%time\n",
        "df[\"ratio\"] = 100 * (df[\"d\"] / df[\"c\"])"
      ],
      "metadata": {
        "colab": {
          "base_uri": "https://localhost:8080/"
        },
        "id": "yPwcWTlIkgEj",
        "outputId": "6632e8d2-ebec-48d0-f6cc-39c013256c9c"
      },
      "execution_count": 13,
      "outputs": [
        {
          "output_type": "stream",
          "name": "stdout",
          "text": [
            "CPU times: user 83.3 ms, sys: 30.9 ms, total: 114 ms\n",
            "Wall time: 169 ms\n"
          ]
        }
      ]
    },
    {
      "cell_type": "markdown",
      "source": [
        "We can see a significant improvement with DataFrame, the time taken by the Vectorization operation is drastically faster as compared to the loops in Python."
      ],
      "metadata": {
        "id": "DVXu-1iNk0yu"
      }
    },
    {
      "cell_type": "markdown",
      "source": [
        "### If-else Statements (on DataFrame)\n",
        "\n",
        "A lot of operations that require using the ‘If-else’ logic. We can easily replace these logics with Vectorization operations in Python.\n",
        "\n",
        "Look at the following example to understand it better (we will be using the 5 million row DataFrame that we created above):\n",
        "\n",
        "Imagine we want to create a new column ‘e’ based on some conditions on the exiting column ‘a’."
      ],
      "metadata": {
        "id": "PwN7-NJ7k9jM"
      }
    },
    {
      "cell_type": "markdown",
      "source": [
        "**Creating a new column using a for loop and if-else**<br>\n",
        "Be patient, this will take a while (~10min)"
      ],
      "metadata": {
        "id": "XfeIjW31lCES"
      }
    },
    {
      "cell_type": "code",
      "source": [
        "%%time\n",
        "for idx, row in df.iterrows():\n",
        "    if row.a == 0:\n",
        "        df.at[idx,'e'] = row.d\n",
        "    elif (row.a <= 25) & (row.a > 0):\n",
        "        df.at[idx,'e'] = (row.b)-(row.c)\n",
        "    else:\n",
        "        df.at[idx,'e'] = row.b + row.c"
      ],
      "metadata": {
        "colab": {
          "base_uri": "https://localhost:8080/"
        },
        "id": "emv7H8nwlsVf",
        "outputId": "03f228fd-ff33-4099-bbf7-8b25372f0b46"
      },
      "execution_count": 14,
      "outputs": [
        {
          "output_type": "stream",
          "name": "stdout",
          "text": [
            "CPU times: user 9min 43s, sys: 1.86 s, total: 9min 45s\n",
            "Wall time: 10min 1s\n"
          ]
        }
      ]
    },
    {
      "cell_type": "markdown",
      "source": [
        "**Create a new column using vectorization**"
      ],
      "metadata": {
        "id": "i4z8mvd5mD8C"
      }
    },
    {
      "cell_type": "code",
      "source": [
        "%%time\n",
        "df['e'] = df['b'] + df['c']\n",
        "df.loc[df['a'] <= 25, 'e'] = df['b'] -df['c']\n",
        "df.loc[df['a']==0, 'e'] = df['d']"
      ],
      "metadata": {
        "colab": {
          "base_uri": "https://localhost:8080/"
        },
        "id": "lfsjam8-mEFb",
        "outputId": "1d25f859-1aae-40ac-d672-bae2764ad01c"
      },
      "execution_count": 17,
      "outputs": [
        {
          "output_type": "stream",
          "name": "stdout",
          "text": [
            "CPU times: user 385 ms, sys: 169 ms, total: 554 ms\n",
            "Wall time: 580 ms\n"
          ]
        }
      ]
    },
    {
      "cell_type": "markdown",
      "source": [
        "### Solving Machine Learning/Deep Learning Networks<br>\n",
        "\n",
        "Calculate the following equation <br>\n",
        "\n",
        " $y=m_1x_1+m_2x_2+m_3x_3+m_4x_4+m_5x_5+c\n",
        " $\n"
      ],
      "metadata": {
        "id": "29bEcPjYobOr"
      }
    },
    {
      "cell_type": "markdown",
      "source": [
        "m is an array of 5 values<br>\n",
        "x is an array of 5 million values"
      ],
      "metadata": {
        "id": "Z-jUEmrgrHbZ"
      }
    },
    {
      "cell_type": "code",
      "source": [
        "# setting initial values of m\n",
        "m = np.random.rand(1,5)\n",
        "\n",
        "# input values for 5 million rows\n",
        "x = np.random.rand(5000000,5)"
      ],
      "metadata": {
        "id": "YxDbEkM5ofa8"
      },
      "execution_count": 18,
      "outputs": []
    },
    {
      "cell_type": "code",
      "source": [
        "m"
      ],
      "metadata": {
        "colab": {
          "base_uri": "https://localhost:8080/"
        },
        "id": "xeJ2e2cVoiqi",
        "outputId": "d66cd0dd-06cf-44c7-b3cf-3beceae34c4f"
      },
      "execution_count": 20,
      "outputs": [
        {
          "output_type": "execute_result",
          "data": {
            "text/plain": [
              "array([[0.00296342, 0.79620141, 0.64724538, 0.67998852, 0.90720993]])"
            ]
          },
          "metadata": {},
          "execution_count": 20
        }
      ]
    },
    {
      "cell_type": "code",
      "source": [
        "x"
      ],
      "metadata": {
        "colab": {
          "base_uri": "https://localhost:8080/"
        },
        "id": "G12rmqtaoutc",
        "outputId": "77adfcc4-ba0f-4557-c746-4cc6101ae4d2"
      },
      "execution_count": 21,
      "outputs": [
        {
          "output_type": "execute_result",
          "data": {
            "text/plain": [
              "array([[0.7558599 , 0.58921781, 0.62781798, 0.52153714, 0.94009674],\n",
              "       [0.76352618, 0.38960832, 0.96926088, 0.79082271, 0.59274708],\n",
              "       [0.16778951, 0.67113249, 0.04751701, 0.67924639, 0.96667438],\n",
              "       ...,\n",
              "       [0.58868249, 0.90064331, 0.97105094, 0.64843349, 0.49664189],\n",
              "       [0.78117006, 0.96739011, 0.29250178, 0.51529084, 0.72206629],\n",
              "       [0.62443378, 0.43816913, 0.57197688, 0.37947644, 0.66667625]])"
            ]
          },
          "metadata": {},
          "execution_count": 21
        }
      ]
    },
    {
      "cell_type": "markdown",
      "source": [
        "**Solving the equation with for loops**"
      ],
      "metadata": {
        "id": "_udsQo3lrQTJ"
      }
    },
    {
      "cell_type": "code",
      "source": [
        "%%time\n",
        "total = 0\n",
        "for i in range(0,5000000):\n",
        "    total = 0\n",
        "    for j in range(0,5):\n",
        "        total = total + x[i][j]*m[0][j]"
      ],
      "metadata": {
        "colab": {
          "base_uri": "https://localhost:8080/"
        },
        "id": "lgN3aGWqozrc",
        "outputId": "755eeaf4-4d08-4fbb-9b82-53b6d08d7dd3"
      },
      "execution_count": 23,
      "outputs": [
        {
          "output_type": "stream",
          "name": "stdout",
          "text": [
            "CPU times: user 24.4 s, sys: 35.9 ms, total: 24.4 s\n",
            "Wall time: 24.8 s\n"
          ]
        }
      ]
    },
    {
      "cell_type": "markdown",
      "source": [
        "**Solving the equation with vectorization**"
      ],
      "metadata": {
        "id": "V7_f0p-KrUuz"
      }
    },
    {
      "cell_type": "code",
      "source": [
        "%%time\n",
        "#dot product\n",
        "np.dot(x,m.T)"
      ],
      "metadata": {
        "colab": {
          "base_uri": "https://localhost:8080/"
        },
        "id": "Llqww1_qpHGH",
        "outputId": "1dcb009d-fef4-4177-96c0-30ceb54997f4"
      },
      "execution_count": 25,
      "outputs": [
        {
          "output_type": "stream",
          "name": "stdout",
          "text": [
            "CPU times: user 88.4 ms, sys: 26.9 ms, total: 115 ms\n",
            "Wall time: 77.5 ms\n"
          ]
        },
        {
          "output_type": "execute_result",
          "data": {
            "text/plain": [
              "array([[2.08523264],\n",
              "       [2.01531537],\n",
              "       [1.90446538],\n",
              "       ...,\n",
              "       [2.23883202],\n",
              "       [1.96733029],\n",
              "       [1.58378567]])"
            ]
          },
          "metadata": {},
          "execution_count": 25
        }
      ]
    },
    {
      "cell_type": "markdown",
      "source": [
        "For loops: 24.8 seconds<br>\n",
        "Vectorization: 77.5 ms"
      ],
      "metadata": {
        "id": "mQlmKHeGrY2F"
      }
    }
  ]
}