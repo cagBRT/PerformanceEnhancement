{
  "nbformat": 4,
  "nbformat_minor": 0,
  "metadata": {
    "colab": {
      "private_outputs": true,
      "provenance": [],
      "authorship_tag": "ABX9TyMZWGAAUwv3fGipkH+nUUY6",
      "include_colab_link": true
    },
    "kernelspec": {
      "name": "python3",
      "display_name": "Python 3"
    },
    "language_info": {
      "name": "python"
    }
  },
  "cells": [
    {
      "cell_type": "markdown",
      "metadata": {
        "id": "view-in-github",
        "colab_type": "text"
      },
      "source": [
        "<a href=\"https://colab.research.google.com/github/cagBRT/PerformanceEnhancement/blob/main/Untitled42.ipynb\" target=\"_parent\"><img src=\"https://colab.research.google.com/assets/colab-badge.svg\" alt=\"Open In Colab\"/></a>"
      ]
    },
    {
      "cell_type": "code",
      "source": [
        "import pandas as pd\n",
        "import numpy as np"
      ],
      "metadata": {
        "id": "gIN--1xQzsRv"
      },
      "execution_count": null,
      "outputs": []
    },
    {
      "cell_type": "code",
      "execution_count": null,
      "metadata": {
        "id": "l_6FgM5szVC9"
      },
      "outputs": [],
      "source": [
        "np.random.seed(3)\n",
        "random_numbers_1=np.random.randint(10e1, size=100000000)\n",
        "random_numbers_2=np.random.randint(10e2, size=100000000)\n",
        "random_numbers_3=np.random.randint(10e3, size=100000000)\n",
        "\n",
        "df = pd.DataFrame({\n",
        "    'random_numbers_1':random_numbers_1,\n",
        "    'random_numbers_2':random_numbers_2,\n",
        "    'random_numbers_3':random_numbers_3,\n",
        "})\n",
        "df"
      ]
    },
    {
      "cell_type": "markdown",
      "source": [
        "DataFrame Iterrows:\n",
        "**Iterrows() allows you to iterate through a pandas DataFrame row by row and it’s usually an approach to be avoided.** As in this case, we couldn’t even finish the code within the time limit we set."
      ],
      "metadata": {
        "id": "LnHa-MGez5Cx"
      }
    },
    {
      "cell_type": "code",
      "source": [
        "%%time\n",
        "def standard_scalar_iterrows(pandas_df:pd.DataFrame,\n",
        "                             mean_ps:pd.Series,\n",
        "                             std_series:pd.Series,\n",
        "                             )->pd.DataFrame:\n",
        "  \"\"\"Iterate through the rows of the Pandas DataFrame and do the standard scaler calculation row by row\"\"\"\n",
        "\n",
        "  for index, row in pandas_df.iterrows():\n",
        "    pandas_df['scaled_random_numbers_2']=\\\n",
        "    (row[r'random_numbers_2']-mean_ps)/std_series\n",
        "  return pandas_df\n"
      ],
      "metadata": {
        "id": "C6I5hrTPz5gL"
      },
      "execution_count": null,
      "outputs": []
    },
    {
      "cell_type": "code",
      "source": [
        "mean_ps=np.mean(df['random_numbers_2'])\n",
        "std_ps=np.std(df['random_numbers_2'])\n",
        "\n",
        "data_df=standard_scalar_iterrows(df,\n",
        "                                 mean_ps,\n",
        "                                 std_ps)"
      ],
      "metadata": {
        "id": "lneDBB_l1Xw1"
      },
      "execution_count": null,
      "outputs": []
    }
  ]
}