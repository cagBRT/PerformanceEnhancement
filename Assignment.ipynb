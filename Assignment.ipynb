{
  "nbformat": 4,
  "nbformat_minor": 0,
  "metadata": {
    "colab": {
      "private_outputs": true,
      "provenance": [],
      "authorship_tag": "ABX9TyODmsBHbRIvgUDFruOwbxWQ",
      "include_colab_link": true
    },
    "kernelspec": {
      "name": "python3",
      "display_name": "Python 3"
    },
    "language_info": {
      "name": "python"
    }
  },
  "cells": [
    {
      "cell_type": "markdown",
      "metadata": {
        "id": "view-in-github",
        "colab_type": "text"
      },
      "source": [
        "<a href=\"https://colab.research.google.com/github/cagBRT/PerformanceEnhancement/blob/main/Assignment.ipynb\" target=\"_parent\"><img src=\"https://colab.research.google.com/assets/colab-badge.svg\" alt=\"Open In Colab\"/></a>"
      ]
    },
    {
      "cell_type": "markdown",
      "source": [
        "### This notebook is designed to allow students to practice iterrows, apply, and vectorizing"
      ],
      "metadata": {
        "id": "y3H8QQjaeCcX"
      }
    },
    {
      "cell_type": "code",
      "execution_count": null,
      "metadata": {
        "id": "b3NIbh4icijA"
      },
      "outputs": [],
      "source": [
        "import pandas as pd\n",
        "import numpy as np"
      ]
    },
    {
      "cell_type": "code",
      "source": [
        "def get_data(size = 10_000):\n",
        "    df = pd.DataFrame()\n",
        "    df['age'] = np.random.randint(0, 100, size)\n",
        "    df['time_at_work'] = np.random.randint(0,8,size)\n",
        "    df['percentage_productive'] = np.random.rand(size)\n",
        "    df['favorite_treat'] = np.random.choice(['ice_cream', 'boba', 'cookie'], size)\n",
        "    df['bad_karma'] = np.random.choice(['stub_toe', 'wifi_malfunction', 'extra_traffic'])\n",
        "    return df"
      ],
      "metadata": {
        "id": "zT6W-zVDcmsa"
      },
      "execution_count": null,
      "outputs": []
    },
    {
      "cell_type": "code",
      "source": [
        "def reward_calc(row):\n",
        "  if row['age'] >= 65:\n",
        "    return row ['favorite_treat']\n",
        "  if (row['time_at_work'] >= 2) & (row['percentage_productive'] >= 0.5):\n",
        "    return row ['favorite_treat']\n",
        "  return row['bad_karma']"
      ],
      "metadata": {
        "id": "r_oFzWYDcpbK"
      },
      "execution_count": null,
      "outputs": []
    },
    {
      "cell_type": "markdown",
      "source": [
        "**Assignment 1**: <br>\n",
        "Use iterrows and reward_calc on df"
      ],
      "metadata": {
        "id": "02n23iwadJuk"
      }
    },
    {
      "cell_type": "code",
      "source": [
        "#Assignment 1"
      ],
      "metadata": {
        "id": "eA1wUln2dV_x"
      },
      "execution_count": null,
      "outputs": []
    },
    {
      "cell_type": "code",
      "source": [
        "# @title\n",
        "%%timeit\n",
        "df = get_data()\n",
        "for index, row in df.iterrows():\n",
        "  df.loc[index, 'reward'] = reward_calc(row)"
      ],
      "metadata": {
        "cellView": "form",
        "id": "EHGW3NxMcr1V"
      },
      "execution_count": null,
      "outputs": []
    },
    {
      "cell_type": "markdown",
      "source": [
        "**Assignment 2:**<br>\n",
        "Use apply and reward_calc"
      ],
      "metadata": {
        "id": "Rt1yyjLedU35"
      }
    },
    {
      "cell_type": "code",
      "source": [
        "#Assignment 2"
      ],
      "metadata": {
        "id": "GoYyq3Dwdfx5"
      },
      "execution_count": null,
      "outputs": []
    },
    {
      "cell_type": "code",
      "source": [
        "# @title\n",
        "%%timeit\n",
        "df = get_data()\n",
        "df['reward'] = df.apply(reward_calc, axis=1)"
      ],
      "metadata": {
        "cellView": "form",
        "id": "k5Aca1ncc1EA"
      },
      "execution_count": null,
      "outputs": []
    },
    {
      "cell_type": "markdown",
      "source": [
        "**Assignment 3:**<br>\n",
        "Use vectors to determine the values of the reward column"
      ],
      "metadata": {
        "id": "5N5FtZQjdxBb"
      }
    },
    {
      "cell_type": "code",
      "source": [
        "#Assignment 3"
      ],
      "metadata": {
        "id": "XXFZpFlId_ei"
      },
      "execution_count": null,
      "outputs": []
    },
    {
      "cell_type": "code",
      "source": [
        "# @title\n",
        "%%timeit\n",
        "df = get_data()\n",
        "df['reward'] = df['bad_karma']\n",
        "df.loc[((df['percentage_productive'] >= 0.5) &\n",
        "      (df['time_at_work'] >= 2)) |\n",
        "      (df['age'] >= 65), 'reward'] = df['favorite_treat']"
      ],
      "metadata": {
        "cellView": "form",
        "id": "xmiCOyKac48Q"
      },
      "execution_count": null,
      "outputs": []
    }
  ]
}